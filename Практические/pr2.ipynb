{
 "cells": [
  {
   "cell_type": "markdown",
   "id": "aa42b69a-1d9e-4af1-b21b-4726550eb26c",
   "metadata": {},
   "source": [
    "# Практическая работа №2"
   ]
  },
  {
   "cell_type": "markdown",
   "id": "f11968de-0fa8-457c-be7c-f8558ffcadf7",
   "metadata": {},
   "source": [
    "# Задача 3.0"
   ]
  },
  {
   "cell_type": "markdown",
   "id": "8f81e20e-5903-452e-8096-c1e19c397963",
   "metadata": {},
   "source": [
    "**A)**"
   ]
  },
  {
   "cell_type": "code",
   "execution_count": 1,
   "id": "00a2e949-1765-4e51-b1c0-06ef3bdbc397",
   "metadata": {},
   "outputs": [
    {
     "name": "stdout",
     "output_type": "stream",
     "text": [
      "[27, 82, 41, 124, 62, 31, 94, 47, 142, 71, 214, 107, 322, 161, 484, 242, 121, 364, 182, 91, 274, 137, 412, 206, 103, 310, 155, 466, 233, 700, 350, 175, 526, 263, 790, 395, 1186, 593, 1780, 890, 445, 1336, 668, 334, 167, 502, 251, 754, 377, 1132, 566, 283, 850, 425, 1276, 638, 319, 958, 479, 1438, 719, 2158, 1079, 3238, 1619, 4858, 2429, 7288, 3644, 1822, 911, 2734, 1367, 4102, 2051, 6154, 3077, 9232, 4616, 2308, 1154, 577, 1732, 866, 433, 1300, 650, 325, 976, 488, 244, 122, 61, 184, 92, 46, 23, 70, 35, 106, 53, 160, 80, 40, 20, 10, 5, 16, 8, 4, 2, 1]\n"
     ]
    }
   ],
   "source": [
    "def collatz_sequence(n):\n",
    "    sequence = [n]\n",
    "    while n != 1:\n",
    "        if n % 2 == 0:\n",
    "            n = n // 2\n",
    "        else:\n",
    "            n = 3 * n + 1\n",
    "        sequence.append(n)\n",
    "    return sequence\n",
    "\n",
    "start_number = 27\n",
    "print(f'{collatz_sequence(start_number)}')"
   ]
  },
  {
   "cell_type": "markdown",
   "id": "7091f5d3-a7cd-4f60-bb8d-e2fb4371715f",
   "metadata": {},
   "source": [
    "**Б)**"
   ]
  },
  {
   "cell_type": "code",
   "execution_count": 10,
   "id": "cd158292-ad4d-4840-8295-7a8ddd648142",
   "metadata": {},
   "outputs": [
    {
     "name": "stdout",
     "output_type": "stream",
     "text": [
      "Время останова для 27: 111\n"
     ]
    }
   ],
   "source": [
    "#б)\n",
    "def collatz_stopping_time(n):\n",
    "    stopping_time = 0\n",
    "    while n != 1:\n",
    "        if n % 2 == 0:\n",
    "            n = n // 2\n",
    "        else:\n",
    "            n = 3 * n + 1\n",
    "        stopping_time += 1\n",
    "    return stopping_time\n",
    "\n",
    "start_number = 27\n",
    "print(f\"Время останова для {start_number}: {collatz_stopping_time(start_number)}\")\n"
   ]
  },
  {
   "cell_type": "markdown",
   "id": "48d88a21-5e94-4af3-8e3e-5729d431a399",
   "metadata": {},
   "source": [
    "# Задача 3.1"
   ]
  },
  {
   "cell_type": "code",
   "execution_count": 33,
   "id": "a9de455f-0b8f-4b64-891c-b9400d7cbb51",
   "metadata": {},
   "outputs": [
    {
     "name": "stdin",
     "output_type": "stream",
     "text": [
      "Введите положительное целое число:  3\n"
     ]
    },
    {
     "name": "stdout",
     "output_type": "stream",
     "text": [
      "Время останова для 3: 7\n"
     ]
    }
   ],
   "source": [
    "def collatz_stopping_time(n):\n",
    "    stopping_time = 0\n",
    "    while n != 1:\n",
    "        if n % 2 == 0:\n",
    "            n = n // 2\n",
    "        else:\n",
    "            n = 3 * n + 1\n",
    "        stopping_time += 1\n",
    "    return stopping_time\n",
    "\n",
    "if __name__ == \"__main__\":\n",
    "    try:\n",
    "        n = int(input(\"Введите положительное целое число: \"))\n",
    "        if n <= 0:\n",
    "            raise ValueError(\"Число должно быть положительным.\")\n",
    "        stopping_time = collatz_stopping_time(n)\n",
    "        print(f\"Время останова для {n}: {stopping_time}\")\n",
    "    except ValueError as e:\n",
    "        print(f\"Ошибка: {e}\")"
   ]
  },
  {
   "cell_type": "markdown",
   "id": "3daf0f26-18b2-4323-b4b0-dcd5f9d57843",
   "metadata": {},
   "source": [
    "# Задача 3.2"
   ]
  },
  {
   "cell_type": "code",
   "execution_count": 23,
   "id": "495ea778-6ba0-4352-a354-93dda89e4787",
   "metadata": {},
   "outputs": [
    {
     "name": "stdout",
     "output_type": "stream",
     "text": [
      "1107 km\n"
     ]
    }
   ],
   "source": [
    "import math\n",
    "import sys\n",
    "\n",
    "def haversine(angle_rad):\n",
    "    return math.sin(angle_rad / 2) ** 2\n",
    "\n",
    "def calculate_distance(lat1, lon1, lat2, lon2, radius=6378.1):\n",
    "    lat1, lon1 = math.radians(lat1), math.radians(lon1)\n",
    "    lat2, lon2 = math.radians(lat2), math.radians(lon2)\n",
    "    dlat = lat2 - lat1\n",
    "    dlon = lon2 - lon1\n",
    "    a = haversine(dlat) + math.cos(lat1) * math.cos(lat2) * haversine(dlon)\n",
    "    c = 2 * math.atan2(math.sqrt(a), math.sqrt(1 - a))\n",
    "    distance = radius * c\n",
    "    return distance\n",
    "\n",
    "if __name__ == \"__main__\":\n",
    "\n",
    "    try:\n",
    "        point1 = sys.argv[1].split(',')\n",
    "        point2 = sys.argv[2].split(',')     \n",
    "        lat1, lon1 = float(point1[0]), float(point1[1])\n",
    "        lat2, lon2 = float(point2[0]), float(point2[1])\n",
    "    except (IndexError, ValueError):\n",
    "        lat1, lon1 = 48.9, 2.4  # Париж\n",
    "        lat2, lon2 = 41.9, 12.5 # Рим\n",
    "    \n",
    "    distance = calculate_distance(lat1, lon1, lat2, lon2)\n",
    "    print(f\"{distance:.0f} km\")"
   ]
  },
  {
   "cell_type": "markdown",
   "id": "93a9aecd-8de0-48f5-9124-4a75673263cf",
   "metadata": {},
   "source": [
    "# Задача 3.3"
   ]
  },
  {
   "cell_type": "code",
   "execution_count": 25,
   "id": "9b94d4f7-890f-4d31-b049-486cd44c2595",
   "metadata": {},
   "outputs": [
    {
     "name": "stdout",
     "output_type": "stream",
     "text": [
      "Создано 20 SVG-файлов в каталоге C:\\Users\\Spulae\\test\n"
     ]
    }
   ],
   "source": [
    "import os\n",
    "from math import cos, sin, radians\n",
    "\n",
    "def create_svg_file(filename, cx, cy, radius_large, radius_small, angle):\n",
    "\n",
    "    small_cx = cx + radius_large * cos(radians(angle))\n",
    "    small_cy = cy + radius_large * sin(radians(angle))\n",
    "\n",
    "    svg_content = f\"\"\"<?xml version=\"1.0\" encoding=\"utf-8\"?>\n",
    "<svg xmlns=\"http://www.w3.org/2000/svg\"\n",
    " xmlns:xlink=\"http://www.w3.org/1999/xlink\"\n",
    " width=\"500\" height=\"500\" style=\"background: #ffffff\">\n",
    "<circle cx=\"{cx}\" cy=\"{cy}\" r=\"{radius_large}\" style=\"stroke: black; stroke-width: 2px; fill: none;\"/>\n",
    "<circle cx=\"{small_cx}\" cy=\"{small_cy}\" r=\"{radius_small}\" style=\"stroke: red; fill: red;\"/>\n",
    "</svg>\n",
    "\"\"\"\n",
    "    with open(filename, 'w') as f:\n",
    "        f.write(svg_content)\n",
    "\n",
    "def main():\n",
    "\n",
    "    home_dir = os.path.expanduser(\"~\")\n",
    "    test_dir = os.path.join(home_dir, \"test\")\n",
    "    os.makedirs(test_dir, exist_ok=True)\n",
    "    cx, cy = 250, 250\n",
    "    radius_large = 200\n",
    "    radius_small = 20\n",
    "\n",
    "    num_files = 20\n",
    "    angle_step = 360 / num_files \n",
    "    \n",
    "    for i in range(num_files):\n",
    "        angle = i * angle_step\n",
    "        filename = os.path.join(test_dir, f\"fig{i:02}.svg\")\n",
    "        create_svg_file(filename, cx, cy, radius_large, radius_small, angle)\n",
    "    \n",
    "    print(f\"Создано {num_files} SVG-файлов в каталоге {test_dir}\")\n",
    "\n",
    "if __name__ == \"__main__\":\n",
    "    main()"
   ]
  },
  {
   "cell_type": "markdown",
   "id": "e7cf440d-dbfc-4b1d-8141-47c32dd2e2c4",
   "metadata": {},
   "source": [
    "# Задача 3.4"
   ]
  },
  {
   "cell_type": "code",
   "execution_count": null,
   "id": "6ec21f77-da49-49a2-8f82-aa585d509fcc",
   "metadata": {},
   "outputs": [],
   "source": [
    "import os\n",
    "import sys\n",
    "import re\n",
    "\n",
    "valid_months = {\"Jan\", \"Feb\", \"Mar\", \"Apr\", \"May\", \"Jun\", \"Jul\", \"Aug\", \"Sep\", \"Oct\", \"Nov\", \"Dec\"}\n",
    "\n",
    "directory = input(\"Введите имя каталога: \")\n",
    "\n",
    "if not os.path.isdir(directory):\n",
    "    print(f\"Ошибка: Каталог '{directory}' не существует.\")\n",
    "    sys.exit(1)\n",
    "\n",
    "filename_pattern = re.compile(r\"^[A-Za-z]+_\\d{2}_[A-Za-z]{3}_\\d{4}\\.txt$\")\n",
    "\n",
    "for filename in os.listdir(directory):\n",
    "    \n",
    "    if not filename_pattern.match(filename):\n",
    "        print(f\"Предупреждение: Имя файла '{filename}' не соответствует корректному формату и будет пропущено.\")\n",
    "        continue\n",
    "    try:\n",
    "        _, _, month, _ = filename.split('_')\n",
    "        month = month[:3]\n",
    "    except ValueError:\n",
    "        print(f\"Предупреждение: Имя файла '{filename}' не соответствует ожидаемому формату и будет пропущено.\")\n",
    "        continue\n",
    "\n",
    "    if month not in valid_months:\n",
    "        print(f\"Предупреждение: Сокращенное обозначение месяца '{month}' в файле '{filename}' не найдено и будет пропущено.\")\n",
    "        continue\n",
    "\n",
    "    print(f\"Файл '{filename}' корректен и будет обработан.\")"
   ]
  }
 ],
 "metadata": {
  "kernelspec": {
   "display_name": "Python 3 (ipykernel)",
   "language": "python",
   "name": "python3"
  },
  "language_info": {
   "codemirror_mode": {
    "name": "ipython",
    "version": 3
   },
   "file_extension": ".py",
   "mimetype": "text/x-python",
   "name": "python",
   "nbconvert_exporter": "python",
   "pygments_lexer": "ipython3",
   "version": "3.12.5"
  }
 },
 "nbformat": 4,
 "nbformat_minor": 5
}
