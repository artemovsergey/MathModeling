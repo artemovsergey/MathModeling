{
 "cells": [
  {
   "cell_type": "markdown",
   "id": "98a8ce7e-77e5-4ec1-abec-e1db2cf035cb",
   "metadata": {},
   "source": [
    "# Практическая работа №8"
   ]
  },
  {
   "cell_type": "markdown",
   "id": "13fd44f4-7b60-4e69-9e26-3f04dadd2ea8",
   "metadata": {},
   "source": [
    "**В 1**"
   ]
  },
  {
   "cell_type": "code",
   "execution_count": 9,
   "id": "590c28ed",
   "metadata": {},
   "outputs": [
    {
     "name": "stdout",
     "output_type": "stream",
     "text": [
      "2.75 s ± 50.9 ms per loop (mean ± std. dev. of 7 runs, 1 loop each)\n",
      "24.1 μs ± 930 ns per loop (mean ± std. dev. of 7 runs, 10,000 loops each)\n"
     ]
    }
   ],
   "source": [
    "import numpy as np\n",
    "from IPython import get_ipython\n",
    "\n",
    "def dft(x):\n",
    "    n = len(x)\n",
    "    F = np.zeros(n, dtype=complex)\n",
    "    for k in range(n):\n",
    "        for m in range(n):\n",
    "            F[k] += x[m] * np.exp(-2j * np.pi * m * k / n)\n",
    "    return F\n",
    "\n",
    "n = 1024\n",
    "x = np.random.random(n)\n",
    "\n",
    "ipython = get_ipython()\n",
    "\n",
    "ipython.run_line_magic(\"timeit\", \"dft(x)\")\n",
    "\n",
    "ipython.run_line_magic(\"timeit\", \"np.fft.fft(x)\")"
   ]
  }
 ],
 "metadata": {
  "kernelspec": {
   "display_name": "Python 3 (ipykernel)",
   "language": "python",
   "name": "python3"
  },
  "language_info": {
   "codemirror_mode": {
    "name": "ipython",
    "version": 3
   },
   "file_extension": ".py",
   "mimetype": "text/x-python",
   "name": "python",
   "nbconvert_exporter": "python",
   "pygments_lexer": "ipython3",
   "version": "3.12.5"
  }
 },
 "nbformat": 4,
 "nbformat_minor": 5
}
