{
 "cells": [
  {
   "cell_type": "markdown",
   "id": "48868e4f-a8bf-411b-8a59-3a201fe29918",
   "metadata": {},
   "source": [
    "# Практическая работа №1"
   ]
  },
  {
   "cell_type": "markdown",
   "id": "749b0997-43fd-42fa-b10d-153addf9acfc",
   "metadata": {},
   "source": [
    "**Задача 1**"
   ]
  },
  {
   "cell_type": "code",
   "execution_count": 3,
   "id": "8400b725-59cb-4e86-9173-0c4237937bc4",
   "metadata": {},
   "outputs": [
    {
     "name": "stdout",
     "output_type": "stream",
     "text": [
      "[0.0, 0.25, 1.0, 0.5, 0.75, 0.25]\n"
     ]
    }
   ],
   "source": [
    "def normalize(list):\n",
    "    min_val = min(list)\n",
    "    max_val = max(list)\n",
    "    return [(x - min_val) / (max_val - min_val) for x in list]\n",
    "\n",
    "a = [2, 4, 10, 6, 8, 4]\n",
    "\n",
    "print(f'{normalize(a)}')"
   ]
  },
  {
   "cell_type": "markdown",
   "id": "52845c22-b89f-477d-8d9e-61e3060569d5",
   "metadata": {},
   "source": [
    "**Задача 2**"
   ]
  },
  {
   "cell_type": "code",
   "execution_count": 4,
   "id": "7ec371d4-1f08-4249-a833-090475b5a39a",
   "metadata": {},
   "outputs": [
    {
     "name": "stdout",
     "output_type": "stream",
     "text": [
      "АГС =  1.1981402347355923\n",
      "Константа Гаусса G =  0.8346268416740731\n"
     ]
    }
   ],
   "source": [
    "import math\n",
    "\n",
    "def ags(x, y, tol=1e-10):\n",
    "    a, b = x, y\n",
    "    while abs(a - b) > tol:\n",
    "        a, b = (a + b) / 2, math.sqrt(a * b)\n",
    "    return a\n",
    "\n",
    "x = 1\n",
    "y = math.sqrt(2)\n",
    "ags_result = ags(x, y)\n",
    "\n",
    "G = 1 / ags_result\n",
    "\n",
    "print(\"АГС = \", ags_result)\n",
    "print(\"Константа Гаусса G = \", G)\n"
   ]
  },
  {
   "cell_type": "markdown",
   "id": "d5f58c08-2175-4675-9944-05b21aeef282",
   "metadata": {},
   "source": [
    "**Задача 3**"
   ]
  },
  {
   "cell_type": "code",
   "execution_count": 5,
   "id": "5d726920-2558-4411-8427-9bb211adbee9",
   "metadata": {},
   "outputs": [
    {
     "name": "stdout",
     "output_type": "stream",
     "text": [
      "1\n",
      "2\n",
      "Fizz\n",
      "4\n",
      "Buzz\n",
      "Fizz\n",
      "7\n",
      "8\n",
      "Fizz\n",
      "Buzz\n",
      "11\n",
      "Fizz\n",
      "13\n",
      "14\n",
      "FizzBuzz\n",
      "16\n",
      "17\n",
      "Fizz\n",
      "19\n",
      "Buzz\n",
      "Fizz\n",
      "22\n",
      "23\n",
      "Fizz\n",
      "Buzz\n",
      "26\n",
      "Fizz\n",
      "28\n",
      "29\n",
      "FizzBuzz\n",
      "31\n",
      "32\n",
      "Fizz\n",
      "34\n",
      "Buzz\n",
      "Fizz\n",
      "37\n",
      "38\n",
      "Fizz\n",
      "Buzz\n",
      "41\n",
      "Fizz\n",
      "43\n",
      "44\n",
      "FizzBuzz\n",
      "46\n",
      "47\n",
      "Fizz\n",
      "49\n",
      "Buzz\n",
      "Fizz\n",
      "52\n",
      "53\n",
      "Fizz\n",
      "Buzz\n",
      "56\n",
      "Fizz\n",
      "58\n",
      "59\n",
      "FizzBuzz\n",
      "61\n",
      "62\n",
      "Fizz\n",
      "64\n",
      "Buzz\n",
      "Fizz\n",
      "67\n",
      "68\n",
      "Fizz\n",
      "Buzz\n",
      "71\n",
      "Fizz\n",
      "73\n",
      "74\n",
      "FizzBuzz\n",
      "76\n",
      "77\n",
      "Fizz\n",
      "79\n",
      "Buzz\n",
      "Fizz\n",
      "82\n",
      "83\n",
      "Fizz\n",
      "Buzz\n",
      "86\n",
      "Fizz\n",
      "88\n",
      "89\n",
      "FizzBuzz\n",
      "91\n",
      "92\n",
      "Fizz\n",
      "94\n",
      "Buzz\n",
      "Fizz\n",
      "97\n",
      "98\n",
      "Fizz\n",
      "Buzz\n"
     ]
    }
   ],
   "source": [
    "for i in range(1, 101):\n",
    "    if i % 3 == 0 and i % 5 == 0:\n",
    "        print(\"FizzBuzz\")\n",
    "    elif i % 3 == 0:\n",
    "        print(\"Fizz\")\n",
    "    elif i % 5 == 0:\n",
    "        print(\"Buzz\")\n",
    "    else:\n",
    "        print(i)"
   ]
  },
  {
   "cell_type": "markdown",
   "id": "61f2d9fd-f10d-4ec3-b113-7e1a2e1c4323",
   "metadata": {},
   "source": [
    "**Задача 4**"
   ]
  },
  {
   "cell_type": "code",
   "execution_count": 7,
   "id": "0385e86c-8043-44ba-b824-f771396d5a4a",
   "metadata": {},
   "outputs": [
    {
     "name": "stdout",
     "output_type": "stream",
     "text": [
      "H3C-CH2-CH2-CH2-CH2-CH2-CH2-CH3\n"
     ]
    }
   ],
   "source": [
    "def func(stoich):\n",
    "    if stoich.startswith(\"C\") and \"H\" in stoich:\n",
    "        n = int(stoich[1:stoich.index(\"H\")])\n",
    "\n",
    "        if n <= 1:\n",
    "            return \"n должно быть больше 1\"\n",
    "\n",
    "        structure = \"H3C\" + \"-CH2\" * (n - 2) + \"-CH3\"\n",
    "        return structure\n",
    "    else:\n",
    "        return \"Некорректная стехиометрия\"\n",
    "\n",
    "stoich = \"C8H18\"\n",
    "print(func(stoich))"
   ]
  }
 ],
 "metadata": {
  "kernelspec": {
   "display_name": "Python 3 (ipykernel)",
   "language": "python",
   "name": "python3"
  },
  "language_info": {
   "codemirror_mode": {
    "name": "ipython",
    "version": 3
   },
   "file_extension": ".py",
   "mimetype": "text/x-python",
   "name": "python",
   "nbconvert_exporter": "python",
   "pygments_lexer": "ipython3",
   "version": "3.12.5"
  }
 },
 "nbformat": 4,
 "nbformat_minor": 5
}
