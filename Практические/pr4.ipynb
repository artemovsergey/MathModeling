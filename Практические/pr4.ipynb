{
 "cells": [
  {
   "cell_type": "markdown",
   "id": "fdd5839e-a50c-44a6-aeb2-3ff5667f0e35",
   "metadata": {},
   "source": [
    "# Практическая работа №4"
   ]
  },
  {
   "cell_type": "markdown",
   "id": "9f987209-ff04-45c9-a351-2fd35d849131",
   "metadata": {},
   "source": [
    "## Задача 1"
   ]
  },
  {
   "cell_type": "code",
   "execution_count": 1,
   "id": "631da783",
   "metadata": {},
   "outputs": [
    {
     "name": "stdout",
     "output_type": "stream",
     "text": [
      "Баланс: -300\n"
     ]
    }
   ],
   "source": [
    "class BankAccount:\n",
    "    def __init__(self, account_number):\n",
    "        if not self._is_valid_account_number(account_number):\n",
    "            raise ValueError(\"Номер счёта некорректен.\")\n",
    "        self.account_number = account_number\n",
    "        self.balance = 0\n",
    "\n",
    "    @staticmethod\n",
    "    def _is_valid_account_number(account_number):\n",
    "        digits = [int(d) for d in str(account_number)][::-1]\n",
    "        for i in range(1, len(digits), 2):\n",
    "            digits[i] *= 2\n",
    "            if digits[i] > 9:\n",
    "                digits[i] -= 9\n",
    "        return sum(digits) % 10 == 0\n",
    "\n",
    "    def deposit(self, amount):\n",
    "        if amount <= 0:\n",
    "            raise ValueError(\"Сумма депозита должна быть положительной.\")\n",
    "        self.balance += amount\n",
    "\n",
    "    def withdraw(self, amount):\n",
    "        if amount <= 0:\n",
    "            raise ValueError(\"Сумма снятия должна быть положительной.\")\n",
    "        if amount > self.balance:\n",
    "            raise ValueError(\"Недостаточно средств.\")\n",
    "        self.balance -= amount\n",
    "\n",
    "class CurrentAccount(BankAccount):\n",
    "    def __init__(self, account_number, overdraft_limit):\n",
    "        super().__init__(account_number)\n",
    "        self.overdraft_limit = overdraft_limit\n",
    "\n",
    "    def withdraw(self, amount):\n",
    "        if amount <= 0:\n",
    "            raise ValueError(\"Сумма снятия должна быть положительной.\")\n",
    "        if amount > self.balance + self.overdraft_limit:\n",
    "            raise ValueError(\"Превышен лимит овердрафта.\")\n",
    "        self.balance -= amount\n",
    "\n",
    "try:\n",
    "    account = CurrentAccount(\"1234567812345670\", 500)\n",
    "    account.deposit(1000)\n",
    "    account.withdraw(1300)\n",
    "    print(\"Баланс:\", account.balance)\n",
    "except ValueError as e:\n",
    "    print(e)\n"
   ]
  }
 ],
 "metadata": {
  "kernelspec": {
   "display_name": "Python 3 (ipykernel)",
   "language": "python",
   "name": "python3"
  },
  "language_info": {
   "codemirror_mode": {
    "name": "ipython",
    "version": 3
   },
   "file_extension": ".py",
   "mimetype": "text/x-python",
   "name": "python",
   "nbconvert_exporter": "python",
   "pygments_lexer": "ipython3",
   "version": "3.12.5"
  }
 },
 "nbformat": 4,
 "nbformat_minor": 5
}
